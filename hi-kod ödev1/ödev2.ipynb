{
 "cells": [
  {
   "cell_type": "code",
   "execution_count": null,
   "id": "b0428260",
   "metadata": {},
   "outputs": [],
   "source": [
    "fidan=21\n",
    "pınar=22\n",
    "aysu=23\n"
   ]
  },
  {
   "cell_type": "code",
   "execution_count": 1,
   "id": "dc20b1b9",
   "metadata": {},
   "outputs": [
    {
     "data": {
      "text/plain": [
       "False"
      ]
     },
     "execution_count": 1,
     "metadata": {},
     "output_type": "execute_result"
    }
   ],
   "source": [
    "21==22"
   ]
  },
  {
   "cell_type": "code",
   "execution_count": 2,
   "id": "5b7de54b",
   "metadata": {},
   "outputs": [
    {
     "data": {
      "text/plain": [
       "True"
      ]
     },
     "execution_count": 2,
     "metadata": {},
     "output_type": "execute_result"
    }
   ],
   "source": [
    "22==22"
   ]
  },
  {
   "cell_type": "code",
   "execution_count": 3,
   "id": "25d34566",
   "metadata": {},
   "outputs": [
    {
     "data": {
      "text/plain": [
       "False"
      ]
     },
     "execution_count": 3,
     "metadata": {},
     "output_type": "execute_result"
    }
   ],
   "source": [
    "22==23"
   ]
  },
  {
   "cell_type": "code",
   "execution_count": 4,
   "id": "7b64759c",
   "metadata": {},
   "outputs": [
    {
     "data": {
      "text/plain": [
       "True"
      ]
     },
     "execution_count": 4,
     "metadata": {},
     "output_type": "execute_result"
    }
   ],
   "source": [
    "21!=22"
   ]
  },
  {
   "cell_type": "code",
   "execution_count": 5,
   "id": "92fa84f4",
   "metadata": {},
   "outputs": [
    {
     "data": {
      "text/plain": [
       "True"
      ]
     },
     "execution_count": 5,
     "metadata": {},
     "output_type": "execute_result"
    }
   ],
   "source": [
    "22!=23"
   ]
  },
  {
   "cell_type": "code",
   "execution_count": 9,
   "id": "c6c6e2a1",
   "metadata": {},
   "outputs": [
    {
     "data": {
      "text/plain": [
       "True"
      ]
     },
     "execution_count": 9,
     "metadata": {},
     "output_type": "execute_result"
    }
   ],
   "source": [
    "21<22 and 22<23"
   ]
  },
  {
   "cell_type": "code",
   "execution_count": 10,
   "id": "8d1e869c",
   "metadata": {},
   "outputs": [
    {
     "data": {
      "text/plain": [
       "False"
      ]
     },
     "execution_count": 10,
     "metadata": {},
     "output_type": "execute_result"
    }
   ],
   "source": [
    "22>21 and 21>22"
   ]
  },
  {
   "cell_type": "code",
   "execution_count": 11,
   "id": "08433f7f",
   "metadata": {},
   "outputs": [
    {
     "data": {
      "text/plain": [
       "True"
      ]
     },
     "execution_count": 11,
     "metadata": {},
     "output_type": "execute_result"
    }
   ],
   "source": [
    "21>22 or 23>22"
   ]
  },
  {
   "cell_type": "code",
   "execution_count": null,
   "id": "64011031",
   "metadata": {},
   "outputs": [],
   "source": []
  }
 ],
 "metadata": {
  "kernelspec": {
   "display_name": "Python 3 (ipykernel)",
   "language": "python",
   "name": "python3"
  },
  "language_info": {
   "codemirror_mode": {
    "name": "ipython",
    "version": 3
   },
   "file_extension": ".py",
   "mimetype": "text/x-python",
   "name": "python",
   "nbconvert_exporter": "python",
   "pygments_lexer": "ipython3",
   "version": "3.11.4"
  }
 },
 "nbformat": 4,
 "nbformat_minor": 5
}
