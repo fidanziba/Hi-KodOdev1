{
 "cells": [
  {
   "cell_type": "code",
   "execution_count": 2,
   "id": "11d1e1a0",
   "metadata": {},
   "outputs": [
    {
     "name": "stdout",
     "output_type": "stream",
     "text": [
      "Adınız: Fidan\n",
      "Fidan\n"
     ]
    }
   ],
   "source": [
    "isim = input(\"Adınız: \")\n",
    "print (isim)"
   ]
  },
  {
   "cell_type": "code",
   "execution_count": 3,
   "id": "7f3fd905",
   "metadata": {},
   "outputs": [
    {
     "name": "stdout",
     "output_type": "stream",
     "text": [
      "Yaşınız: 21\n",
      "21\n"
     ]
    }
   ],
   "source": [
    "yaş = input (\"Yaşınız: \")\n",
    "print(yaş)"
   ]
  },
  {
   "cell_type": "code",
   "execution_count": 4,
   "id": "4f4c5964",
   "metadata": {},
   "outputs": [
    {
     "name": "stdout",
     "output_type": "stream",
     "text": [
      "Şehir: hatay\n",
      "hatay\n"
     ]
    }
   ],
   "source": [
    "şehir = input (\"Şehir: \")\n",
    "print(şehir)"
   ]
  },
  {
   "cell_type": "code",
   "execution_count": 5,
   "id": "7ddc1420",
   "metadata": {},
   "outputs": [
    {
     "name": "stdout",
     "output_type": "stream",
     "text": [
      "mesleğiniz: bilgisayar programcısı\n",
      "bilgisayar programcısı\n"
     ]
    }
   ],
   "source": [
    "meslek = input (\"mesleğiniz: \")\n",
    "print(meslek)\n"
   ]
  },
  {
   "cell_type": "code",
   "execution_count": null,
   "id": "e29acfbf",
   "metadata": {},
   "outputs": [],
   "source": []
  }
 ],
 "metadata": {
  "kernelspec": {
   "display_name": "Python 3 (ipykernel)",
   "language": "python",
   "name": "python3"
  },
  "language_info": {
   "codemirror_mode": {
    "name": "ipython",
    "version": 3
   },
   "file_extension": ".py",
   "mimetype": "text/x-python",
   "name": "python",
   "nbconvert_exporter": "python",
   "pygments_lexer": "ipython3",
   "version": "3.11.4"
  }
 },
 "nbformat": 4,
 "nbformat_minor": 5
}
